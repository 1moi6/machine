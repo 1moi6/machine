{
 "cells": [
  {
   "cell_type": "code",
   "execution_count": 5,
   "metadata": {},
   "outputs": [],
   "source": [
    "## importando bibliotecas\n",
    "\n",
    "import pandas as pd\n",
    "import numpy as np\n",
    "\n",
    "import tensorflow as tf\n",
    "from sklearn import preprocessing\n",
    "from sklearn import tree\n",
    "from sklearn.neural_network import MLPClassifier\n",
    "from sklearn.svm import NuSVC\n",
    "from sklearn.metrics import confusion_matrix, roc_curve\n",
    "from sklearn.inspection import DecisionBoundaryDisplay\n",
    "from sklearn.pipeline import Pipeline\n",
    "from sklearn.ensemble import RandomForestClassifier\n",
    "\n",
    "\n",
    "import matplotlib.pyplot as plt"
   ]
  },
  {
   "cell_type": "code",
   "execution_count": 2,
   "metadata": {},
   "outputs": [],
   "source": [
    "## gerando os dados\n",
    "npts = 5000\n",
    "dados = pd.DataFrame()\n",
    "x = -1+2*np.random.rand(npts)\n",
    "y = -1+2*np.random.rand(npts)\n",
    "lbl = 0.3*(-1+2*np.random.rand(npts))\n",
    "label = [int(x[i]**2+y[i]**2<0.7+lbl[i]) for i in range(npts)]\n",
    "\n",
    "\n",
    "# label = [int ()]\n",
    "dados[\"x\"] = x\n",
    "dados[\"y\"] = y\n",
    "dados[\"label\"] = label\n",
    "\n",
    "test_size = int(len(dados) * 0.1)\n",
    "train = dados.iloc[:-test_size,:].copy() \n",
    "test = dados.iloc[-test_size:,:].copy()\n",
    "\n",
    "X_train = train.drop(\"label\",axis=1).copy()\n",
    "X_test = test.drop(\"label\",axis=1).copy()\n",
    "\n",
    "# y_train = train[[\"label\"]].copy()\n",
    "# y_test = test[[\"label\"]].copy()\n",
    "\n",
    "normalizer = preprocessing.MinMaxScaler(feature_range=(0, 1))\n",
    "# #normalizer = preprocessing.Normalizer()\n",
    "normalizer.fit(X_train)\n",
    "normalized_train_X = normalizer.transform(X_train)\n",
    "normalized_test_X = normalizer.transform(X_test)\n",
    "\n",
    "y_train = np.array(train[[\"label\"]].copy()).reshape(-1)\n",
    "y_test = np.array(test[[\"label\"]].copy()).reshape(-1)\n",
    "\n",
    " "
   ]
  },
  {
   "cell_type": "code",
   "execution_count": null,
   "metadata": {},
   "outputs": [],
   "source": [
    "## rede neural keras\n",
    "model = tf.keras.models.Sequential([\n",
    "  tf.keras.layers.Input(shape=(2,)),\n",
    "  tf.keras.layers.Dense(10, activation='elu'),\n",
    "  tf.keras.layers.Dense(10, activation='elu'),\n",
    "  tf.keras.layers.Dense(10, activation='elu'),\n",
    "  tf.keras.layers.Dense(1,activation='sigmoid'),\n",
    "])\n",
    "\n",
    "model.compile(\n",
    "  optimizer='adam',\n",
    "  loss='mse',\n",
    "  metrics= [\"accuracy\"]\n",
    "  )\n",
    "\n",
    "hst = model.fit(normalized_train_X,y_train, epochs=50)\n",
    "model.evaluate(normalized_test_X,y_test,verbose=2)\n",
    "# ypred = model(normalized_test_X, training=False) \n",
    "# res = pd.DataFrame(data={\"dados\":[x[0] for x in y_test ],\"predito\":[ int(x[0]>0.5) for x in ypred]})\n",
    "# plt.plot(hst.history[\"accuracy\"])\n",
    "# res\n"
   ]
  },
  {
   "cell_type": "code",
   "execution_count": null,
   "metadata": {},
   "outputs": [],
   "source": [
    "## rede neural sklearn\n",
    "clfnn = MLPClassifier(hidden_layer_sizes=(3, 10,10,10), alpha=1e-5,verbose=True, learning_rate=\"adaptive\",max_iter=500)\n",
    "clfnn.fit(normalized_train_X, y_train)\n",
    "clfnn.score(normalized_test_X,y_test)"
   ]
  },
  {
   "cell_type": "code",
   "execution_count": null,
   "metadata": {},
   "outputs": [],
   "source": [
    "## arvore de decisão \n",
    "clf = tree.DecisionTreeClassifier()\n",
    "clf = clf.fit(normalized_train_X, y_train)\n",
    "clf.score(normalized_test_X,y_test)"
   ]
  },
  {
   "cell_type": "code",
   "execution_count": null,
   "metadata": {},
   "outputs": [],
   "source": [
    "## suport vector machine\n",
    "clfsvm = NuSVC(tol=1e-05,verbose=True,gamma=\"auto\")\n",
    "clfsvm.fit(normalized_train_X, y_train)\n",
    "clfsvm.score(normalized_test_X,y_test)"
   ]
  },
  {
   "cell_type": "code",
   "execution_count": null,
   "metadata": {},
   "outputs": [],
   "source": [
    "clfrf = RandomForestClassifier(n_estimators=10,verbose=True)\n",
    "clfrf.fit(normalized_train_X,y_train)\n",
    "clfrf.score(normalized_test_X,y_test)"
   ]
  },
  {
   "cell_type": "code",
   "execution_count": null,
   "metadata": {},
   "outputs": [],
   "source": [
    "# plt.scatter([z[0] for z in normalized_test_X],[z[1] for z in normalized_test_X],c=y_test,cmap = plt.cm.Paired)\n",
    "\n",
    "ypred_keras = model.predict(normalized_test_X)\n",
    "yok = [int(x[0]>0.5) for x in ypred_keras]\n",
    "\n",
    "aux = \"true\"\n",
    "MatrixKeras = confusion_matrix(y_test,yok,normalize=aux)#, columns=[\"pred_v\",\"pred_f\"],index=[\"teste_v\",\"teste_f\"]\n",
    "MatrixSK_NN = confusion_matrix(y_test,clfnn.predict(normalized_test_X),normalize=aux)#, columns=[\"pred_v\",\"pred_f\"],index=[\"teste_v\",\"teste_f\"]\n",
    "MatrixSK_Tree =confusion_matrix(y_test,clf.predict(normalized_test_X),normalize=aux)#, columns=[\"pred_v\",\"pred_f\"],index=[\"teste_v\",\"teste_f\"]\n",
    "MatrixSK_SVM = confusion_matrix(y_test,clfsvm.predict(normalized_test_X),normalize=aux)\n",
    "\n",
    "MatrixSK_NN\n",
    "MatrixKeras\n",
    "MatrixSK_Tree\n",
    "MatrixSK_SVM[:][0]\n",
    "TPR = [MatrixKeras[0][0],MatrixSK_NN[0][0], MatrixSK_Tree[0][0],MatrixSK_SVM[0][0]]\n",
    "FPR = [MatrixKeras[1][0],MatrixSK_NN[1][0], MatrixSK_Tree[1][0],MatrixSK_SVM[1][0]]\n",
    "\n",
    "ax2 = plt.plot(FPR,TPR,'o',[0,1],[0,1],'--')\n",
    "plt.xlim(0,1)\n",
    "plt.ylim(0,1)\n"
   ]
  },
  {
   "cell_type": "code",
   "execution_count": null,
   "metadata": {},
   "outputs": [],
   "source": [
    "feature_1, feature_2 = np.meshgrid(np.linspace(0,1,200),np.linspace(0,1,200))\n",
    "avaliar = np.c_[feature_1.ravel(),feature_2.ravel()]\n",
    "# ypred_keras = model.predict(avaliar)\n",
    "# y_pred = np.reshape([int(x[0]>0.5) for x in ypred_keras], feature_1.shape)\n",
    "y_pred =np.reshape(clfrf.predict(avaliar), feature_1.shape)\n",
    "display = DecisionBoundaryDisplay(xx0=feature_1, xx1=feature_2, response=y_pred)\n",
    "display.plot()"
   ]
  },
  {
   "cell_type": "code",
   "execution_count": null,
   "metadata": {},
   "outputs": [],
   "source": [
    "y_pred2 =np.reshape(clf.predict(avaliar), feature_1.shape)\n",
    "display = DecisionBoundaryDisplay(xx0=feature_1, xx1=feature_2, response=y_pred2)\n",
    "display.plot()"
   ]
  },
  {
   "cell_type": "code",
   "execution_count": null,
   "metadata": {},
   "outputs": [],
   "source": [
    "y_score = clfrf.predict_proba(normalized_test_X)[:,1]\n",
    "\n",
    "from sklearn.metrics import roc_curve\n",
    "fpr, tpr, thresholds = roc_curve(y_test, y_score)\n",
    "print(thresholds) \n",
    "plt.plot(fpr,tpr)\n",
    "# plt.plot(y_score)"
   ]
  },
  {
   "cell_type": "code",
   "execution_count": null,
   "metadata": {},
   "outputs": [],
   "source": []
  }
 ],
 "metadata": {
  "kernelspec": {
   "display_name": "basico",
   "language": "python",
   "name": "python3"
  },
  "language_info": {
   "codemirror_mode": {
    "name": "ipython",
    "version": 3
   },
   "file_extension": ".py",
   "mimetype": "text/x-python",
   "name": "python",
   "nbconvert_exporter": "python",
   "pygments_lexer": "ipython3",
   "version": "3.10.8"
  },
  "orig_nbformat": 4,
  "vscode": {
   "interpreter": {
    "hash": "c465bf73b49a10f80478bca24b58099e5ba305018ffe2f60e88c492037de4269"
   }
  }
 },
 "nbformat": 4,
 "nbformat_minor": 2
}
